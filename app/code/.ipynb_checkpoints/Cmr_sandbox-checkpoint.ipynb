{
 "cells": [
  {
   "cell_type": "code",
   "execution_count": null,
   "id": "d0ceb949",
   "metadata": {},
   "outputs": [],
   "source": [
    "[11:38 AM] Pagan, Brianna R. (GSFC-619.0)[ADNET SYSTEMS INC]\n",
    "and change sys.path.append(path.abspath('../eo-metadata-tools/CMR/python')) accordingly\n",
    "\n"
   ]
  }
 ],
 "metadata": {
  "kernelspec": {
   "display_name": "Python 3 (ipykernel)",
   "language": "python",
   "name": "python3"
  },
  "language_info": {
   "codemirror_mode": {
    "name": "ipython",
    "version": 3
   },
   "file_extension": ".py",
   "mimetype": "text/x-python",
   "name": "python",
   "nbconvert_exporter": "python",
   "pygments_lexer": "ipython3",
   "version": "3.9.12"
  }
 },
 "nbformat": 4,
 "nbformat_minor": 5
}
