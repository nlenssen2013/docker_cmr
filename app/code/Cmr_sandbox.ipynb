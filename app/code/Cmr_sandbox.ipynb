{
 "cells": [
  {
   "cell_type": "code",
   "execution_count": 3,
   "id": "d0ceb949",
   "metadata": {},
   "outputs": [],
   "source": [
    "from os import path\n",
    "import argparse\n",
    "from os import path\n",
    "import sys\n",
    "import json\n",
    "sys.path.append(path.abspath('eo-metadata-tools/CMR/python'))\n",
    "import cmr.auth.token as t\n",
    "import cmr.search.collection as coll\n",
    "import cmr.search.common as scom\n",
    "import cmr.util.network as net"
   ]
  },
  {
   "cell_type": "code",
   "execution_count": null,
   "id": "eabb0715",
   "metadata": {},
   "outputs": [],
   "source": [
    "def mySearch(env, search_type, query, show=False):\n",
    "    ''' Constructs a CMR search URL based on three inputs: \n",
    "        the environment, type of search, and the query syntax.\n",
    "        Fourth optional argument will print out the search URL if True. \n",
    "        Leverages the eo-metadata-tools python package to submit the\n",
    "        request, download the results, and return them to the calling module.\n",
    "    '''\n",
    "    # CMR base URLs\n",
    "    cmr_root = {'PROD': 'https://cmr.earthdata.nasa.gov',\n",
    "                'UAT': 'https://cmr.uat.earthdata.nasa.gov',\n",
    "                'SIT': 'https://cmr.sit.earthdata.nasa.gov'}\n",
    "    # Construct the search URL using the inputs\n",
    "    base = cmr_root[env]\n",
    "    url = '{}/{}?{}'.format(base, search_type, net.expand_query_to_parameters(query))\n",
    "    if show:\n",
    "        print(url)\n",
    "    try:\n",
    "        result = net.get(url, accept=\"application/vnd.nasa.cmr.umm_results+json\")\n",
    "        #items = result.get(\"items\", [])\n",
    "        return result\n",
    "    except:\n",
    "        return False"
   ]
  },
  {
   "cell_type": "code",
   "execution_count": null,
   "id": "2a5df727",
   "metadata": {},
   "outputs": [],
   "source": [
    "def getCollMeta(cname, env, daac='GES_DISC'):\n",
    "    ''' Returns a collection's metadata record.\n",
    "        Input cname has syntax: shortname_version \n",
    "        Input env is one of these: SIT, UAT, or PROD\n",
    "        Input daac is 'GES_DISC' by default\n",
    "    '''\n",
    "    return mySearch(env, 'collections', {'native-id':cname,'provider':daac})"
   ]
  },
  {
   "cell_type": "code",
   "execution_count": null,
   "id": "6eaad7a8",
   "metadata": {},
   "outputs": [],
   "source": [
    "def getCollSvcs(coll, env, daac='GES_DISC'):\n",
    "    ''' Searches for a collection's associated services.\n",
    "        Inputs are the collection metadata record and the env.\n",
    "        Returns the concept_ids and names.\n",
    "    '''\n",
    "    try:\n",
    "        svcL = coll['meta']['associations']['services']\n",
    "        svcRecs = []\n",
    "        for svc in svcL: \n",
    "            sitems = mySearch(env, 'services', {'provider':daac, 'concept_id':svc})\n",
    "            svcRecs.append(sitems)\n",
    "    except:\n",
    "        svcRecs = []\n",
    "    return svcRecs"
   ]
  },
  {
   "cell_type": "code",
   "execution_count": null,
   "id": "40313db7",
   "metadata": {},
   "outputs": [],
   "source": []
  }
 ],
 "metadata": {
  "kernelspec": {
   "display_name": "Python 3 (ipykernel)",
   "language": "python",
   "name": "python3"
  },
  "language_info": {
   "codemirror_mode": {
    "name": "ipython",
    "version": 3
   },
   "file_extension": ".py",
   "mimetype": "text/x-python",
   "name": "python",
   "nbconvert_exporter": "python",
   "pygments_lexer": "ipython3",
   "version": "3.9.12"
  }
 },
 "nbformat": 4,
 "nbformat_minor": 5
}
